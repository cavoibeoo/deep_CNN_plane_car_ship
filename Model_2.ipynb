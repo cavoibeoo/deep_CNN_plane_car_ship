{
 "cells": [
  {
   "cell_type": "markdown",
   "metadata": {
    "id": "WXQ5BDNqLFHr"
   },
   "source": [
    "# Group 18\n",
    "\n",
    "- Trần  Đức Quang - 21110793\n",
    "- Lê Minh Quân - 21110792\n",
    "- Trần Bình Phước - 21110079\n",
    "- Lê Thụy Tường Vy - 21110"
   ]
  },
  {
   "cell_type": "code",
   "execution_count": 1,
   "metadata": {
    "execution": {
     "iopub.execute_input": "2024-10-30T12:42:34.747276Z",
     "iopub.status.busy": "2024-10-30T12:42:34.746995Z",
     "iopub.status.idle": "2024-10-30T12:42:34.757763Z",
     "shell.execute_reply": "2024-10-30T12:42:34.757022Z",
     "shell.execute_reply.started": "2024-10-30T12:42:34.747244Z"
    },
    "id": "T2akUd5x0HE8",
    "trusted": true
   },
   "outputs": [],
   "source": [
    "# For tips on running notebooks in Google Colab, see\n",
    "# https://pytorch.org/tutorials/beginner/colab\n",
    "%matplotlib inline"
   ]
  },
  {
   "cell_type": "markdown",
   "metadata": {
    "id": "ZvO3ekng0HE_"
   },
   "source": [
    "# Training a Classifier\n",
    "\n",
    "This is it. You have seen how to define neural networks, compute loss\n",
    "and make updates to the weights of the network.\n",
    "\n",
    "Now you might be thinking,\n",
    "\n",
    "# What about data?\n",
    "\n",
    "Generally, when you have to deal with image, text, audio or video data,\n",
    "you can use standard python packages that load data into a numpy array.\n",
    "Then you can convert this array into a `torch.*Tensor`.\n",
    "\n",
    "-   For images, packages such as Pillow, OpenCV are useful\n",
    "-   For audio, packages such as scipy and librosa\n",
    "-   For text, either raw Python or Cython based loading, or NLTK and\n",
    "    SpaCy are useful\n",
    "\n",
    "Specifically for vision, we have created a package called `torchvision`,\n",
    "that has data loaders for common datasets such as ImageNet, CIFAR10,\n",
    "MNIST, etc. and data transformers for images, viz.,\n",
    "`torchvision.datasets` and `torch.utils.data.DataLoader`.\n",
    "\n",
    "This provides a huge convenience and avoids writing boilerplate code.\n",
    "\n",
    "For this tutorial, we will use the CIFAR10 dataset. It has the classes:\n",
    "'airplane', 'automobile', 'bird', 'cat', 'deer', 'dog', 'frog', 'horse',\n",
    "'ship', 'truck'. The images in CIFAR-10 are of size 3x32x32, i.e.\n",
    "3-channel color images of 32x32 pixels in size.\n",
    "\n",
    "![cifar10](https://pytorch.org/tutorials/_static/img/cifar10.png)\n",
    "\n",
    "# Training an image classifier\n",
    "\n",
    "We will do the following steps in order:\n",
    "\n",
    "1.  Load and normalize the CIFAR10 training and test datasets using\n",
    "    `torchvision`\n",
    "2.  Define a Convolutional Neural Network\n",
    "3.  Define a loss function\n",
    "4.  Train the network on the training data\n",
    "5.  Test the network on the test data\n",
    "\n",
    "### 1. Load and normalize CIFAR10\n",
    "\n",
    "Using `torchvision`, it's extremely easy to load CIFAR10.\n"
   ]
  },
  {
   "cell_type": "code",
   "execution_count": 2,
   "metadata": {
    "execution": {
     "iopub.execute_input": "2024-10-30T12:42:34.759736Z",
     "iopub.status.busy": "2024-10-30T12:42:34.759374Z",
     "iopub.status.idle": "2024-10-30T12:42:39.861405Z",
     "shell.execute_reply": "2024-10-30T12:42:39.860404Z",
     "shell.execute_reply.started": "2024-10-30T12:42:34.759695Z"
    },
    "id": "i5m8hOmW0HFB",
    "trusted": true
   },
   "outputs": [],
   "source": [
    "import torch\n",
    "import torchvision\n",
    "import torchvision.transforms as transforms"
   ]
  },
  {
   "cell_type": "markdown",
   "metadata": {
    "id": "mB_hndJo0HFC"
   },
   "source": [
    "The output of torchvision datasets are PILImage images of range \\[0,\n",
    "1\\]. We transform them to Tensors of normalized range \\[-1, 1\\].\n"
   ]
  },
  {
   "cell_type": "markdown",
   "metadata": {
    "id": "vIuwCDDY0HFC"
   },
   "source": [
    "<div style=\"background-color: #54c7ec; color: #fff; font-weight: 700; padding-left: 10px; padding-top: 5px; padding-bottom: 5px\"><strong>NOTE:</strong></div>\n",
    "<div style=\"background-color: #f3f4f7; padding-left: 10px; padding-top: 10px; padding-bottom: 10px; padding-right: 10px\">\n",
    "<p>If running on Windows and you get a BrokenPipeError, try settingthe num_worker of torch.utils.data.DataLoader() to 0.</p>\n",
    "</div>\n"
   ]
  },
  {
   "cell_type": "code",
   "execution_count": 3,
   "metadata": {
    "colab": {
     "base_uri": "https://localhost:8080/"
    },
    "execution": {
     "iopub.execute_input": "2024-10-30T12:42:39.864116Z",
     "iopub.status.busy": "2024-10-30T12:42:39.863441Z",
     "iopub.status.idle": "2024-10-30T12:42:48.251849Z",
     "shell.execute_reply": "2024-10-30T12:42:48.251075Z",
     "shell.execute_reply.started": "2024-10-30T12:42:39.86408Z"
    },
    "id": "CCEQhDX80HFC",
    "outputId": "252256cd-6d80-4429-9d2e-8aad13898288",
    "trusted": true
   },
   "outputs": [
    {
     "name": "stdout",
     "output_type": "stream",
     "text": [
      "\n",
      "['airplanes', 'cars', 'ship']\n"
     ]
    }
   ],
   "source": [
    "import torchvision.transforms as transforms\n",
    "from torchvision.datasets import ImageFolder\n",
    "from torch.utils.data import DataLoader\n",
    "\n",
    "transform = transforms.Compose([\n",
    "    transforms.Resize((224, 224)),  # Resize images to 32x32 (if needed)\n",
    "    transforms.ToTensor(),\n",
    "    transforms.Normalize((0.5, 0.5, 0.5), (0.5, 0.5, 0.5))\n",
    "])\n",
    "\n",
    "\n",
    "batch_size = 16\n",
    "\n",
    "print()\n",
    "\n",
    "trainset = ImageFolder(root='./archive/Dataset/train', transform=transform)\n",
    "testset = ImageFolder(root='./archive/Dataset/test', transform=transform)\n",
    "\n",
    "batch_size = 16\n",
    "\n",
    "trainloader = DataLoader(trainset, batch_size=batch_size, shuffle=True, num_workers=2)\n",
    "testloader = DataLoader(testset, batch_size=batch_size, shuffle=False, num_workers=2)\n",
    "\n",
    "\n",
    "# trainset = torchvision.datasets.CIFAR10(\n",
    "#     root=\"./data\",\n",
    "#     train=True,\n",
    "#     download=True,\n",
    "#     transform=transform,\n",
    "# )\n",
    "# trainloader = DataLoader(trainset, batch_size=batch_size, shuffle=True, num_workers=2)\n",
    "\n",
    "# testset = torchvision.datasets.CIFAR10(\n",
    "#     root=\"./data\",\n",
    "#     train=False,\n",
    "#     download=True,\n",
    "#     transform=transform,\n",
    "# )\n",
    "# testloader = DataLoader(testset, batch_size=batch_size, shuffle=False, num_workers=2)\n",
    "\n",
    "# classes = (\n",
    "#     \"arplanes\",\n",
    "#     \"cars\",\n",
    "#     \"ships\"\n",
    "# )\n",
    "\n",
    "classes = trainset.classes  # List of class names\n",
    "print(classes)\n"
   ]
  },
  {
   "cell_type": "markdown",
   "metadata": {
    "id": "P8-GsoG50HFD"
   },
   "source": [
    "Let us show some of the training images, for fun.\n"
   ]
  },
  {
   "cell_type": "code",
   "execution_count": 4,
   "metadata": {
    "colab": {
     "base_uri": "https://localhost:8080/",
     "height": 207
    },
    "execution": {
     "iopub.execute_input": "2024-10-30T12:42:48.253373Z",
     "iopub.status.busy": "2024-10-30T12:42:48.253011Z",
     "iopub.status.idle": "2024-10-30T12:42:48.76772Z",
     "shell.execute_reply": "2024-10-30T12:42:48.766646Z",
     "shell.execute_reply.started": "2024-10-30T12:42:48.253328Z"
    },
    "id": "WXzR2Nl_0HFE",
    "outputId": "238b732c-6d0a-423e-b2f0-aa0fcff5dd49",
    "trusted": true
   },
   "outputs": [
    {
     "data": {
      "image/png": "[encoded data removed]",
      "text/plain": [
       "<Figure size 640x480 with 1 Axes>"
      ]
     },
     "metadata": {},
     "output_type": "display_data"
    },
    {
     "name": "stdout",
     "output_type": "stream",
     "text": [
      "ship  ship  airplanes ship  ship  ship  cars  cars  ship  ship  cars  ship  ship  ship  airplanes airplanes\n"
     ]
    }
   ],
   "source": [
    "import matplotlib.pyplot as plt\n",
    "import numpy as np\n",
    "\n",
    "\n",
    "# functions to show an image\n",
    "def imshow(img):\n",
    "    img = img / 2 + 0.5  # unnormalize\n",
    "    npimg = img.numpy()\n",
    "    plt.imshow(np.transpose(npimg, (1, 2, 0)))\n",
    "    plt.show()\n",
    "\n",
    "\n",
    "# get some random training images\n",
    "dataiter = iter(trainloader)\n",
    "images, labels = next(dataiter)\n",
    "\n",
    "# show images\n",
    "imshow(torchvision.utils.make_grid(images))\n",
    "# print labels\n",
    "print(\" \".join(f\"{classes[labels[j]]:5s}\" for j in range(batch_size)))"
   ]
  },
  {
   "cell_type": "code",
   "execution_count": 5,
   "metadata": {
    "colab": {
     "base_uri": "https://localhost:8080/"
    },
    "execution": {
     "iopub.execute_input": "2024-10-30T12:42:48.771816Z",
     "iopub.status.busy": "2024-10-30T12:42:48.770992Z",
     "iopub.status.idle": "2024-10-30T12:42:48.799666Z",
     "shell.execute_reply": "2024-10-30T12:42:48.79877Z",
     "shell.execute_reply.started": "2024-10-30T12:42:48.771764Z"
    },
    "id": "3wkXPqMy0HFE",
    "outputId": "43d52227-f8fc-4bea-ade6-28c2281d6145",
    "trusted": true
   },
   "outputs": [
    {
     "name": "stdout",
     "output_type": "stream",
     "text": [
      "cuda:0\n"
     ]
    }
   ],
   "source": [
    "device = torch.device('cuda:0' if torch.cuda.is_available() else 'cpu')\n",
    "\n",
    "# Assuming that we are on a CUDA machine, this should print a CUDA device:\n",
    "print(device)"
   ]
  },
  {
   "cell_type": "markdown",
   "metadata": {
    "id": "ruLGR4M50HFF"
   },
   "source": [
    "### 2. Define a Convolutional Neural Network\n",
    "\n",
    "Copy the neural network from the Neural Networks section before and\n",
    "modify it to take 3-channel images (instead of 1-channel images as it\n",
    "was defined).\n"
   ]
  },
  {
   "cell_type": "code",
   "execution_count": 6,
   "metadata": {},
   "outputs": [
    {
     "name": "stdout",
     "output_type": "stream",
     "text": [
      "\f\n"
     ]
    }
   ],
   "source": [
    "clear __cached__"
   ]
  },
  {
   "cell_type": "code",
   "execution_count": 7,
   "metadata": {
    "colab": {
     "base_uri": "https://localhost:8080/"
    },
    "execution": {
     "iopub.execute_input": "2024-10-30T12:42:48.801227Z",
     "iopub.status.busy": "2024-10-30T12:42:48.800866Z",
     "iopub.status.idle": "2024-10-30T12:43:01.092092Z",
     "shell.execute_reply": "2024-10-30T12:43:01.091129Z",
     "shell.execute_reply.started": "2024-10-30T12:42:48.801185Z"
    },
    "id": "y00NAFaj4qNM",
    "outputId": "ef262f27-6f18-4b30-e14c-6f5926262e53",
    "trusted": true
   },
   "outputs": [
    {
     "name": "stdout",
     "output_type": "stream",
     "text": [
      "Requirement already satisfied: torchinfo in d:\\other\\program\\anaconda3\\lib\\site-packages (1.8.0)\n"
     ]
    }
   ],
   "source": [
    "!pip install torchinfo"
   ]
  },
  {
   "cell_type": "code",
   "execution_count": 11,
   "metadata": {
    "colab": {
     "base_uri": "https://localhost:8080/",
     "height": 391
    },
    "execution": {
     "iopub.execute_input": "2024-10-30T12:43:01.102023Z",
     "iopub.status.busy": "2024-10-30T12:43:01.101661Z",
     "iopub.status.idle": "2024-10-30T12:43:02.017856Z",
     "shell.execute_reply": "2024-10-30T12:43:02.016915Z",
     "shell.execute_reply.started": "2024-10-30T12:43:01.101982Z"
    },
    "id": "kPjY8qsQ0HFF",
    "outputId": "74c24f2a-ae2b-4f34-ddb4-960fcff8d48e",
    "trusted": true
   },
   "outputs": [
    {
     "name": "stdout",
     "output_type": "stream",
     "text": [
      "==========================================================================================\n",
      "Layer (type:depth-idx)                   Output Shape              Param #\n",
      "==========================================================================================\n",
      "├─Conv2d: 1-1                            [-1, 32, 224, 224]        4,736\n",
      "├─Conv2d: 1-2                            [-1, 64, 224, 224]        51,264\n",
      "├─MaxPool2d: 1-3                         [-1, 64, 112, 112]        --\n",
      "├─Conv2d: 1-4                            [-1, 128, 112, 112]       204,928\n",
      "├─Conv2d: 1-5                            [-1, 256, 112, 112]       819,456\n",
      "├─Conv2d: 1-6                            [-1, 128, 112, 112]       (recursive)\n",
      "├─Conv2d: 1-7                            [-1, 256, 112, 112]       (recursive)\n",
      "├─Conv2d: 1-8                            [-1, 256, 112, 112]       3,277,056\n",
      "├─Conv2d: 1-9                            [-1, 128, 112, 112]       32,896\n",
      "├─MaxPool2d: 1-10                        [-1, 64, 112, 112]        --\n",
      "├─Conv2d: 1-11                           [-1, 64, 112, 112]        102,464\n",
      "├─Conv2d: 1-12                           [-1, 64, 112, 112]        (recursive)\n",
      "├─Conv2d: 1-13                           [-1, 128, 112, 112]       204,928\n",
      "├─Conv2d: 1-14                           [-1, 256, 38, 38]         819,456\n",
      "├─AvgPool2d: 1-15                        [-1, 256, 19, 19]         --\n",
      "├─Linear: 1-16                           [-1, 128]                 11,829,376\n",
      "├─Linear: 1-17                           [-1, 3]                   387\n",
      "==========================================================================================\n",
      "Total params: 17,346,947\n",
      "Trainable params: 17,346,947\n",
      "Non-trainable params: 0\n",
      "Total mult-adds (G): 76.34\n",
      "==========================================================================================\n",
      "Input size (MB): 0.57\n",
      "Forward/backward pass size (MB): 131.45\n",
      "Params size (MB): 66.17\n",
      "Estimated Total Size (MB): 198.19\n",
      "==========================================================================================\n"
     ]
    },
    {
     "data": {
      "text/plain": [
       "==========================================================================================\n",
       "Layer (type:depth-idx)                   Output Shape              Param #\n",
       "==========================================================================================\n",
       "├─Conv2d: 1-1                            [-1, 32, 224, 224]        4,736\n",
       "├─Conv2d: 1-2                            [-1, 64, 224, 224]        51,264\n",
       "├─MaxPool2d: 1-3                         [-1, 64, 112, 112]        --\n",
       "├─Conv2d: 1-4                            [-1, 128, 112, 112]       204,928\n",
       "├─Conv2d: 1-5                            [-1, 256, 112, 112]       819,456\n",
       "├─Conv2d: 1-6                            [-1, 128, 112, 112]       (recursive)\n",
       "├─Conv2d: 1-7                            [-1, 256, 112, 112]       (recursive)\n",
       "├─Conv2d: 1-8                            [-1, 256, 112, 112]       3,277,056\n",
       "├─Conv2d: 1-9                            [-1, 128, 112, 112]       32,896\n",
       "├─MaxPool2d: 1-10                        [-1, 64, 112, 112]        --\n",
       "├─Conv2d: 1-11                           [-1, 64, 112, 112]        102,464\n",
       "├─Conv2d: 1-12                           [-1, 64, 112, 112]        (recursive)\n",
       "├─Conv2d: 1-13                           [-1, 128, 112, 112]       204,928\n",
       "├─Conv2d: 1-14                           [-1, 256, 38, 38]         819,456\n",
       "├─AvgPool2d: 1-15                        [-1, 256, 19, 19]         --\n",
       "├─Linear: 1-16                           [-1, 128]                 11,829,376\n",
       "├─Linear: 1-17                           [-1, 3]                   387\n",
       "==========================================================================================\n",
       "Total params: 17,346,947\n",
       "Trainable params: 17,346,947\n",
       "Non-trainable params: 0\n",
       "Total mult-adds (G): 76.34\n",
       "==========================================================================================\n",
       "Input size (MB): 0.57\n",
       "Forward/backward pass size (MB): 131.45\n",
       "Params size (MB): 66.17\n",
       "Estimated Total Size (MB): 198.19\n",
       "=========================================================================================="
      ]
     },
     "execution_count": 11,
     "metadata": {},
     "output_type": "execute_result"
    }
   ],
   "source": [
    "import torch\n",
    "import torch.nn as nn\n",
    "import torch.nn.functional as F\n",
    "from torchsummary import summary\n",
    "\n",
    "import torch\n",
    "import torch.nn as nn\n",
    "\n",
    "class CustomCNN(nn.Module):\n",
    "    def __init__(self, num_classes=3):\n",
    "        super(CustomCNN, self).__init__()\n",
    "        \n",
    "        # Initial Layers\n",
    "        self.conv1 = nn.Conv2d(3, 32, kernel_size=7, stride=1, padding=3)  # 224x224 -> 224x224\n",
    "        self.conv2 = nn.Conv2d(32, 64, kernel_size=5, stride=1, padding=2)  # 224x224 -> 224x224\n",
    "        \n",
    "        # Left Path\n",
    "        self.maxpooling1 = nn.MaxPool2d(kernel_size=2, stride=2)  # 224x224 -> 112x112\n",
    "        self.conv3_left = nn.Conv2d(64, 128, kernel_size=5, stride=1, padding=2)  # 112x112 -> 112x112\n",
    "        self.conv4_left = nn.Conv2d(128, 256, kernel_size=5, stride=1, padding=2)  # 112x112 -> 112x112\n",
    "        self.conv5_left = nn.Conv2d(512, 256, kernel_size=5, stride=1, padding=2)  # 112x112 -> 112x112\n",
    "        self.conv6_left = nn.Conv2d(256, 128, kernel_size=1, stride=1, padding=0)  # 112x112 -> 112x112\n",
    "\n",
    "        # Right Path\n",
    "        self.maxpool2 = nn.MaxPool2d(kernel_size=2, stride=2)  # 224x224 -> 112x112\n",
    "        self.conv3_right = nn.Conv2d(64, 64, kernel_size=5, stride=1, padding=2)  # 112x112 -> 112x112\n",
    "        self.conv4_right = nn.Conv2d(64, 128, kernel_size=5, stride=1, padding=2)  # 112x112 -> 112x112\n",
    "        \n",
    "        # Final Conv Layer\n",
    "        self.final_conv = nn.Conv2d(128, 256, kernel_size=5, stride=3, padding=2)  # 112x112 -> 38x38\n",
    "        self.avgpool = nn.AvgPool2d(kernel_size=2, stride=2)  # 38x38 -> 19x19\n",
    "\n",
    "        # Fully Connected Layers\n",
    "        self.fc1 = nn.Linear(256 * 19 * 19, 128)\n",
    "        self.fc2 = nn.Linear(128, num_classes)\n",
    "\n",
    "    def forward(self, x):\n",
    "        # Initial Layers\n",
    "        x = nn.ReLU()(self.conv1(x))  # 224x224 -> 224x224\n",
    "        x = nn.ReLU()(self.conv2(x))  # 224x224 -> 224x224\n",
    "\n",
    "        # Left Path\n",
    "        left = self.maxpooling1(x)  # 224x224 -> 112x112\n",
    "        left1 = nn.ReLU()(self.conv3_left(left))  # 112x112 -> 112x112 C=128\n",
    "        left1 = nn.ReLU()(self.conv4_left(left1))  # 112x112 -> 112x112\n",
    "        left2 = nn.ReLU()(self.conv3_left(left))  # 112x112 -> 112x112 C=128\n",
    "        left2 = nn.ReLU()(self.conv4_left(left2))  # 112x112 -> 112x112\n",
    "        left = torch.cat((left1, left2), dim=1)  # Concatenate along channel dimension\n",
    "        left = nn.ReLU()(self.conv5_left(left))  # Reduce channels to 128\n",
    "        left = nn.ReLU()(self.conv6_left(left))  # Reduce channels to 128\n",
    "        \n",
    "        # Right Path\n",
    "        right = self.maxpool2(x)  # 224x224 -> 112x112\n",
    "        right1 = nn.ReLU()(self.conv3_right(right))  # 112x112 -> 112x112\n",
    "        right2 = nn.ReLU()(self.conv3_right(right))  # 112x112 -> 112x112\n",
    "        right3 = nn.ReLU()(self.conv4_right(right))  # 112x112 -> 112x112\n",
    "        right12= torch.cat((right1, right2), dim=1)  # Concatenate along channel dimension\n",
    "        right = torch.add(right12, right3)  # Element-wise summation\n",
    "\n",
    "\n",
    "        x = torch.add(right, left)  # Element-wise summation\n",
    "        x = nn.ReLU()(self.final_conv(x))\n",
    "        x = self.avgpool(x)  # 38x38 -> 19x19\n",
    "        # print(x.shape)\n",
    "        \n",
    "        # Fully Connected Layers\n",
    "        x = torch.flatten(x, 1)  # Flatten for FC\n",
    "        x = nn.ReLU()(self.fc1(x))\n",
    "        x = self.fc2(x)\n",
    "\n",
    "        return x\n",
    "\n",
    "# Instantiate and test the model\n",
    "model = CustomCNN(num_classes=3)\n",
    "# # Parameter count\n",
    "# num_params = sum(p.numel() for p in model.parameters() if p.requires_grad)\n",
    "# print(f\"Total Parameters: {num_params / 1e6:.2f}M\")\n",
    "\n",
    "summary(model, (3, 224, 224), device=device)"
   ]
  },
  {
   "cell_type": "markdown",
   "metadata": {
    "id": "0LcgceBi0HFG"
   },
   "source": [
    "### 3. Define a Loss function and optimizer\n",
    "\n",
    "Let\\'s use a Classification Cross-Entropy loss and SGD with momentum.\n"
   ]
  },
  {
   "cell_type": "code",
   "execution_count": 12,
   "metadata": {
    "execution": {
     "iopub.execute_input": "2024-10-30T12:43:02.019474Z",
     "iopub.status.busy": "2024-10-30T12:43:02.01909Z",
     "iopub.status.idle": "2024-10-30T12:43:02.02468Z",
     "shell.execute_reply": "2024-10-30T12:43:02.023828Z",
     "shell.execute_reply.started": "2024-10-30T12:43:02.019439Z"
    },
    "id": "wJI93Wrm0HFG",
    "trusted": true
   },
   "outputs": [],
   "source": [
    "criterion = nn.CrossEntropyLoss()\n",
    "optimizer = torch.optim.Adam(model.parameters(), lr=0.001)"
   ]
  },
  {
   "cell_type": "markdown",
   "metadata": {
    "id": "Pin5e4Kw0HFG"
   },
   "source": [
    "### 4. Train the network\n",
    "\n",
    "This is when things start to get interesting. We simply have to loop\n",
    "over our data iterator, and feed the inputs to the network and optimize.\n"
   ]
  },
  {
   "cell_type": "code",
   "execution_count": 13,
   "metadata": {
    "colab": {
     "base_uri": "https://localhost:8080/",
     "height": 373
    },
    "execution": {
     "iopub.execute_input": "2024-10-30T12:43:02.026161Z",
     "iopub.status.busy": "2024-10-30T12:43:02.02586Z",
     "iopub.status.idle": "2024-10-30T12:43:36.651349Z",
     "shell.execute_reply": "2024-10-30T12:43:36.649443Z",
     "shell.execute_reply.started": "2024-10-30T12:43:02.026129Z"
    },
    "id": "TEhR7paQ0HFG",
    "outputId": "20969d0b-09a7-49c5-d00d-5ca9a73846e8",
    "trusted": true
   },
   "outputs": [
    {
     "name": "stdout",
     "output_type": "stream",
     "text": [
      "[1,    20] loss: 1.854\n",
      "[1,    40] loss: 1.072\n",
      "[1,    60] loss: 0.885\n",
      "[1,    80] loss: 0.817\n",
      "[1,   100] loss: 0.727\n",
      "[1,   120] loss: 0.729\n",
      "[1,   140] loss: 0.699\n",
      "[1,   160] loss: 0.717\n",
      "[1,   180] loss: 0.721\n",
      "[2,    20] loss: 0.717\n",
      "[2,    40] loss: 0.683\n",
      "[2,    60] loss: 0.587\n",
      "[2,    80] loss: 0.578\n",
      "[2,   100] loss: 0.582\n",
      "[2,   120] loss: 0.675\n",
      "[2,   140] loss: 0.600\n",
      "[2,   160] loss: 0.489\n",
      "[2,   180] loss: 0.528\n",
      "[3,    20] loss: 0.545\n",
      "[3,    40] loss: 0.517\n",
      "[3,    60] loss: 0.580\n",
      "[3,    80] loss: 0.482\n",
      "[3,   100] loss: 0.522\n",
      "[3,   120] loss: 0.502\n",
      "[3,   140] loss: 0.570\n",
      "[3,   160] loss: 0.470\n",
      "[3,   180] loss: 0.631\n",
      "[4,    20] loss: 0.592\n",
      "[4,    40] loss: 0.419\n",
      "[4,    60] loss: 0.421\n",
      "[4,    80] loss: 0.519\n",
      "[4,   100] loss: 0.451\n",
      "[4,   120] loss: 0.454\n",
      "[4,   140] loss: 0.395\n",
      "[4,   160] loss: 0.377\n",
      "[4,   180] loss: 0.419\n",
      "[5,    20] loss: 0.369\n",
      "[5,    40] loss: 0.397\n",
      "[5,    60] loss: 0.294\n",
      "[5,    80] loss: 0.339\n",
      "[5,   100] loss: 0.356\n",
      "[5,   120] loss: 0.410\n",
      "[5,   140] loss: 0.371\n",
      "[5,   160] loss: 0.371\n",
      "[5,   180] loss: 0.328\n",
      "[6,    20] loss: 0.315\n",
      "[6,    40] loss: 0.258\n",
      "[6,    60] loss: 0.329\n",
      "[6,    80] loss: 0.228\n",
      "[6,   100] loss: 0.318\n",
      "[6,   120] loss: 0.291\n",
      "[6,   140] loss: 0.319\n",
      "[6,   160] loss: 0.276\n",
      "[6,   180] loss: 0.238\n",
      "[7,    20] loss: 0.203\n",
      "[7,    40] loss: 0.151\n",
      "[7,    60] loss: 0.126\n",
      "[7,    80] loss: 0.169\n",
      "[7,   100] loss: 0.155\n",
      "[7,   120] loss: 0.126\n",
      "[7,   140] loss: 0.172\n",
      "[7,   160] loss: 0.164\n",
      "[7,   180] loss: 0.207\n",
      "[8,    20] loss: 0.142\n",
      "[8,    40] loss: 0.123\n",
      "[8,    60] loss: 0.093\n",
      "[8,    80] loss: 0.116\n",
      "[8,   100] loss: 0.090\n",
      "[8,   120] loss: 0.146\n",
      "[8,   140] loss: 0.110\n",
      "[8,   160] loss: 0.123\n",
      "[8,   180] loss: 0.151\n",
      "[9,    20] loss: 0.057\n",
      "[9,    40] loss: 0.055\n",
      "[9,    60] loss: 0.068\n",
      "[9,    80] loss: 0.090\n",
      "[9,   100] loss: 0.061\n",
      "[9,   120] loss: 0.058\n",
      "[9,   140] loss: 0.069\n",
      "[9,   160] loss: 0.063\n",
      "[9,   180] loss: 0.112\n",
      "[10,    20] loss: 0.183\n",
      "[10,    40] loss: 0.093\n",
      "[10,    60] loss: 0.053\n",
      "[10,    80] loss: 0.030\n",
      "[10,   100] loss: 0.046\n",
      "[10,   120] loss: 0.053\n",
      "[10,   140] loss: 0.057\n",
      "[10,   160] loss: 0.055\n",
      "[10,   180] loss: 0.085\n",
      "[11,    20] loss: 0.034\n",
      "[11,    40] loss: 0.036\n",
      "[11,    60] loss: 0.024\n",
      "[11,    80] loss: 0.024\n",
      "[11,   100] loss: 0.021\n",
      "[11,   120] loss: 0.017\n",
      "[11,   140] loss: 0.063\n",
      "[11,   160] loss: 0.059\n",
      "[11,   180] loss: 0.024\n",
      "[12,    20] loss: 0.017\n",
      "[12,    40] loss: 0.005\n",
      "[12,    60] loss: 0.008\n",
      "[12,    80] loss: 0.056\n",
      "[12,   100] loss: 0.057\n",
      "[12,   120] loss: 0.061\n",
      "[12,   140] loss: 0.035\n",
      "[12,   160] loss: 0.053\n",
      "[12,   180] loss: 0.045\n",
      "[13,    20] loss: 0.069\n",
      "[13,    40] loss: 0.075\n",
      "[13,    60] loss: 0.062\n",
      "[13,    80] loss: 0.077\n",
      "[13,   100] loss: 0.051\n",
      "[13,   120] loss: 0.118\n",
      "[13,   140] loss: 0.058\n",
      "[13,   160] loss: 0.067\n",
      "[13,   180] loss: 0.055\n",
      "[14,    20] loss: 0.031\n",
      "[14,    40] loss: 0.018\n",
      "[14,    60] loss: 0.006\n",
      "[14,    80] loss: 0.015\n",
      "[14,   100] loss: 0.235\n",
      "[14,   120] loss: 0.078\n",
      "[14,   140] loss: 0.079\n",
      "[14,   160] loss: 0.081\n",
      "[14,   180] loss: 0.137\n",
      "[15,    20] loss: 0.022\n",
      "[15,    40] loss: 0.014\n",
      "[15,    60] loss: 0.013\n",
      "[15,    80] loss: 0.029\n",
      "[15,   100] loss: 0.019\n",
      "[15,   120] loss: 0.010\n",
      "[15,   140] loss: 0.011\n",
      "[15,   160] loss: 0.006\n",
      "[15,   180] loss: 0.021\n",
      "[16,    20] loss: 0.006\n",
      "[16,    40] loss: 0.009\n",
      "[16,    60] loss: 0.024\n",
      "[16,    80] loss: 0.009\n",
      "[16,   100] loss: 0.006\n",
      "[16,   120] loss: 0.030\n",
      "[16,   140] loss: 0.044\n",
      "[16,   160] loss: 0.055\n",
      "[16,   180] loss: 0.078\n",
      "[17,    20] loss: 0.026\n",
      "[17,    40] loss: 0.016\n",
      "[17,    60] loss: 0.026\n",
      "[17,    80] loss: 0.023\n",
      "[17,   100] loss: 0.027\n",
      "[17,   120] loss: 0.005\n",
      "[17,   140] loss: 0.002\n",
      "[17,   160] loss: 0.001\n",
      "[17,   180] loss: 0.012\n",
      "[18,    20] loss: 0.011\n",
      "[18,    40] loss: 0.110\n",
      "[18,    60] loss: 0.173\n",
      "[18,    80] loss: 0.074\n",
      "[18,   100] loss: 0.043\n",
      "[18,   120] loss: 0.028\n",
      "[18,   140] loss: 0.035\n",
      "[18,   160] loss: 0.010\n",
      "[18,   180] loss: 0.014\n",
      "[19,    20] loss: 0.014\n",
      "[19,    40] loss: 0.123\n",
      "[19,    60] loss: 0.044\n",
      "[19,    80] loss: 0.055\n",
      "[19,   100] loss: 0.058\n",
      "[19,   120] loss: 0.060\n",
      "[19,   140] loss: 0.024\n",
      "[19,   160] loss: 0.054\n",
      "[19,   180] loss: 0.058\n",
      "[20,    20] loss: 0.039\n",
      "[20,    40] loss: 0.028\n",
      "[20,    60] loss: 0.015\n",
      "[20,    80] loss: 0.057\n",
      "[20,   100] loss: 0.029\n",
      "[20,   120] loss: 0.056\n",
      "[20,   140] loss: 0.061\n",
      "[20,   160] loss: 0.073\n",
      "[20,   180] loss: 0.075\n",
      "Finished Training\n"
     ]
    }
   ],
   "source": [
    "for epoch in range(20):  # loop over the dataset multiple times\n",
    "    running_loss = 0.0\n",
    "    for i, data in enumerate(trainloader, 0):\n",
    "        # get the inputs; data is a list of [inputs, labels]\n",
    "        # inputs, labels = data\n",
    "        inputs, labels = data[0].to(device), data[1].to(device)\n",
    "\n",
    "        # zero the parameter gradients\n",
    "        optimizer.zero_grad()\n",
    "\n",
    "        # forward + backward + optimize\n",
    "        outputs = model(inputs)\n",
    "        loss = criterion(outputs, labels)\n",
    "        loss.backward()\n",
    "        optimizer.step()\n",
    "\n",
    "        # print statistics\n",
    "        running_loss += loss.item()\n",
    "        if i % 20 == 19:  # print every 100 mini-batches\n",
    "            print(f\"[{epoch + 1}, {i + 1:5d}] loss: {running_loss / 20:.3f}\")\n",
    "            running_loss = 0.0\n",
    "\n",
    "print(\"Finished Training\")"
   ]
  },
  {
   "cell_type": "markdown",
   "metadata": {
    "id": "UuxqqvBs0HFG"
   },
   "source": [
    "Let\\'s quickly save our trained model:\n"
   ]
  },
  {
   "cell_type": "code",
   "execution_count": 14,
   "metadata": {},
   "outputs": [
    {
     "name": "stdout",
     "output_type": "stream",
     "text": [
      "Accuracy of the network on the test images: 83 %\n"
     ]
    }
   ],
   "source": [
    "#Run of test data set\n",
    "correct = 0\n",
    "total = 0\n",
    "\n",
    "with torch.no_grad():\n",
    "    for data in testloader:\n",
    "        images, labels = data\n",
    "        images, labels = images.to(device), labels.to(device)  # Ensure both images and model are on the same device\n",
    "        outputs = model(images)  # Use the model instance here\n",
    "        _, predicted = torch.max(outputs.data, 1)\n",
    "        total += labels.size(0)\n",
    "        correct += (predicted == labels).sum().item()\n",
    "# Print accuracy\n",
    "print('Accuracy of the network on the test images: %d %%' % (\n",
    "    100 * correct / total))"
   ]
  },
  {
   "cell_type": "code",
   "execution_count": null,
   "metadata": {
    "execution": {
     "iopub.status.busy": "2024-10-30T12:43:36.652435Z",
     "iopub.status.idle": "2024-10-30T12:43:36.652909Z",
     "shell.execute_reply": "2024-10-30T12:43:36.652734Z",
     "shell.execute_reply.started": "2024-10-30T12:43:36.652712Z"
    },
    "id": "vnA9Ytqv0HFG",
    "trusted": true
   },
   "outputs": [],
   "source": [
    "PATH = './cifar_net.pth'\n",
    "torch.save(custom_net.state_dict(), PATH)"
   ]
  },
  {
   "cell_type": "markdown",
   "metadata": {
    "id": "b-ZHq3uv0HFG"
   },
   "source": [
    "See [here](https://pytorch.org/docs/stable/notes/serialization.html) for\n",
    "more details on saving PyTorch models.\n",
    "\n",
    "### 5. Test the network on the test data\n",
    "\n",
    "We have trained the network for 2 passes over the training dataset. But\n",
    "we need to check if the network has learnt anything at all.\n",
    "\n",
    "We will check this by predicting the class label that the neural network\n",
    "outputs, and checking it against the ground-truth. If the prediction is\n",
    "correct, we add the sample to the list of correct predictions.\n",
    "\n",
    "Okay, first step. Let us display an image from the test set to get\n",
    "familiar.\n"
   ]
  },
  {
   "cell_type": "code",
   "execution_count": null,
   "metadata": {
    "execution": {
     "iopub.status.busy": "2024-10-30T12:43:36.654092Z",
     "iopub.status.idle": "2024-10-30T12:43:36.65446Z",
     "shell.execute_reply": "2024-10-30T12:43:36.654298Z",
     "shell.execute_reply.started": "2024-10-30T12:43:36.654279Z"
    },
    "id": "MQaM2WdR0HFG",
    "trusted": true
   },
   "outputs": [],
   "source": [
    "dataiter = iter(testloader)\n",
    "images, labels = next(dataiter)\n",
    "\n",
    "# print images\n",
    "imshow(torchvision.utils.make_grid(images))\n",
    "print('GroundTruth: ', ' '.join(f'{classes[labels[j]]:5s}' for j in range(4)))"
   ]
  },
  {
   "cell_type": "markdown",
   "metadata": {
    "id": "FHeWXrDB0HFH"
   },
   "source": [
    "Next, let\\'s load back in our saved model (note: saving and re-loading\n",
    "the model wasn\\'t necessary here, we only did it to illustrate how to do\n",
    "so):\n"
   ]
  },
  {
   "cell_type": "code",
   "execution_count": null,
   "metadata": {
    "execution": {
     "iopub.status.busy": "2024-10-30T12:43:36.656237Z",
     "iopub.status.idle": "2024-10-30T12:43:36.656626Z",
     "shell.execute_reply": "2024-10-30T12:43:36.656443Z",
     "shell.execute_reply.started": "2024-10-30T12:43:36.656419Z"
    },
    "id": "fkwACj6u0HFH",
    "trusted": true
   },
   "outputs": [],
   "source": [
    "custom_net = CustomNet()\n",
    "custom_net.load_state_dict(torch.load(PATH, weights_only=True))"
   ]
  },
  {
   "cell_type": "markdown",
   "metadata": {
    "id": "WIz5z_PU0HFH"
   },
   "source": [
    "Okay, now let us see what the neural network thinks these examples above\n",
    "are:\n"
   ]
  },
  {
   "cell_type": "code",
   "execution_count": null,
   "metadata": {
    "execution": {
     "iopub.status.busy": "2024-10-30T12:43:36.657749Z",
     "iopub.status.idle": "2024-10-30T12:43:36.658076Z",
     "shell.execute_reply": "2024-10-30T12:43:36.657928Z",
     "shell.execute_reply.started": "2024-10-30T12:43:36.657911Z"
    },
    "id": "MjzuFUGT0HFH",
    "trusted": true
   },
   "outputs": [],
   "source": [
    "outputs = custom_net(images)"
   ]
  },
  {
   "cell_type": "markdown",
   "metadata": {
    "id": "Yt1_Q0H00HFH"
   },
   "source": [
    "The outputs are energies for the 10 classes. The higher the energy for a\n",
    "class, the more the network thinks that the image is of the particular\n",
    "class. So, let\\'s get the index of the highest energy:\n"
   ]
  },
  {
   "cell_type": "code",
   "execution_count": null,
   "metadata": {
    "execution": {
     "iopub.status.busy": "2024-10-30T12:43:36.659189Z",
     "iopub.status.idle": "2024-10-30T12:43:36.65954Z",
     "shell.execute_reply": "2024-10-30T12:43:36.659379Z",
     "shell.execute_reply.started": "2024-10-30T12:43:36.65936Z"
    },
    "id": "hQDpDCxw0HFH",
    "trusted": true
   },
   "outputs": [],
   "source": [
    "_, predicted = torch.max(outputs, 1)\n",
    "\n",
    "print('Predicted: ', ' '.join(f'{classes[predicted[j]]:5s}'\n",
    "                              for j in range(4)))"
   ]
  },
  {
   "cell_type": "markdown",
   "metadata": {
    "id": "ZymU3v7i0HFH"
   },
   "source": [
    "The results seem pretty good.\n",
    "\n",
    "Let us look at how the network performs on the whole dataset.\n"
   ]
  },
  {
   "cell_type": "code",
   "execution_count": null,
   "metadata": {
    "execution": {
     "iopub.status.busy": "2024-10-30T12:43:36.660452Z",
     "iopub.status.idle": "2024-10-30T12:43:36.660828Z",
     "shell.execute_reply": "2024-10-30T12:43:36.660656Z",
     "shell.execute_reply.started": "2024-10-30T12:43:36.660638Z"
    },
    "id": "wMWOms2d0HFH",
    "trusted": true
   },
   "outputs": [],
   "source": [
    "correct = 0\n",
    "total = 0\n",
    "# since we're not training, we don't need to calculate the gradients for our outputs\n",
    "with torch.no_grad():\n",
    "    for data in testloader:\n",
    "#         images, labels = data\n",
    "        inputs, labels = data[0].to(device), data[1].to(device)\n",
    "        # calculate outputs by running images through the network\n",
    "        outputs = custom_net(images)\n",
    "        # the class with the highest energy is what we choose as prediction\n",
    "        _, predicted = torch.max(outputs.data, 1)\n",
    "        total += labels.size(0)\n",
    "        correct += (predicted == labels).sum().item()\n",
    "\n",
    "print(f'Accuracy of the network on the 10000 test images: {100 * correct // total} %')"
   ]
  },
  {
   "cell_type": "markdown",
   "metadata": {
    "id": "KBZENdY30HFH"
   },
   "source": [
    "That looks way better than chance, which is 10% accuracy (randomly\n",
    "picking a class out of 10 classes). Seems like the network learnt\n",
    "something.\n",
    "\n",
    "Hmmm, what are the classes that performed well, and the classes that did\n",
    "not perform well:\n"
   ]
  },
  {
   "cell_type": "code",
   "execution_count": null,
   "metadata": {
    "execution": {
     "iopub.status.busy": "2024-10-30T12:43:36.662998Z",
     "iopub.status.idle": "2024-10-30T12:43:36.663472Z",
     "shell.execute_reply": "2024-10-30T12:43:36.663253Z",
     "shell.execute_reply.started": "2024-10-30T12:43:36.663228Z"
    },
    "id": "ElA4zIUq0HFH",
    "trusted": true
   },
   "outputs": [],
   "source": [
    "# prepare to count predictions for each class\n",
    "correct_pred = {classname: 0 for classname in classes}\n",
    "total_pred = {classname: 0 for classname in classes}\n",
    "\n",
    "# again no gradients needed\n",
    "with torch.no_grad():\n",
    "    for data in testloader:\n",
    "        images, labels = data\n",
    "#         inputs, labels = data[0].to(device), data[1].to(device)\n",
    "        outputs = custom_net(images)\n",
    "        _, predictions = torch.max(outputs, 1)\n",
    "        # collect the correct predictions for each class\n",
    "        for label, prediction in zip(labels, predictions):\n",
    "            if label == prediction:\n",
    "                correct_pred[classes[label]] += 1\n",
    "            total_pred[classes[label]] += 1\n",
    "\n",
    "\n",
    "# print accuracy for each class\n",
    "for classname, correct_count in correct_pred.items():\n",
    "    accuracy = 100 * float(correct_count) / total_pred[classname]\n",
    "    print(f'Accuracy for class: {classname:5s} is {accuracy:.1f} %')"
   ]
  },
  {
   "cell_type": "markdown",
   "metadata": {
    "id": "IGd6NK4-0HFH"
   },
   "source": [
    "Okay, so what next?\n",
    "\n",
    "How do we run these neural networks on the GPU?\n",
    "\n",
    "# Training on GPU\n",
    "\n",
    "Just like how you transfer a Tensor onto the GPU, you transfer the\n",
    "neural net onto the GPU.\n",
    "\n",
    "Let\\'s first define our device as the first visible cuda device if we\n",
    "have CUDA available:\n"
   ]
  },
  {
   "cell_type": "code",
   "execution_count": null,
   "metadata": {
    "execution": {
     "iopub.status.busy": "2024-10-30T12:43:36.664896Z",
     "iopub.status.idle": "2024-10-30T12:43:36.665376Z",
     "shell.execute_reply": "2024-10-30T12:43:36.665138Z",
     "shell.execute_reply.started": "2024-10-30T12:43:36.665114Z"
    },
    "id": "w7le6ZZd0HFI",
    "trusted": true
   },
   "outputs": [],
   "source": [
    "device = torch.device('cuda:0' if torch.cuda.is_available() else 'cpu')\n",
    "\n",
    "# Assuming that we are on a CUDA machine, this should print a CUDA device:\n",
    "\n",
    "print(device)"
   ]
  },
  {
   "cell_type": "markdown",
   "metadata": {
    "id": "yUGbDHxd0HFI"
   },
   "source": [
    "The rest of this section assumes that `device` is a CUDA device.\n",
    "\n",
    "Then these methods will recursively go over all modules and convert\n",
    "their parameters and buffers to CUDA tensors:\n",
    "\n",
    "```python\n",
    "net.to(device)\n",
    "```\n",
    "\n",
    "Remember that you will have to send the inputs and targets at every step\n",
    "to the GPU too:\n",
    "\n",
    "```python\n",
    "inputs, labels = data[0].to(device), data[1].to(device)\n",
    "```\n",
    "\n",
    "Why don\\'t I notice MASSIVE speedup compared to CPU? Because your\n",
    "network is really small.\n",
    "\n",
    "**Exercise:** Try increasing the width of your network (argument 2 of\n",
    "the first `nn.Conv2d`, and argument 1 of the second `nn.Conv2d` -- they\n",
    "need to be the same number), see what kind of speedup you get.\n",
    "\n",
    "**Goals achieved**:\n",
    "\n",
    "- Understanding PyTorch\\'s Tensor library and neural networks at a\n",
    "  high level.\n",
    "- Train a small neural network to classify images\n",
    "\n",
    "# Training on multiple GPUs\n",
    "\n",
    "If you want to see even more MASSIVE speedup using all of your GPUs,\n",
    "please check out [Optional: Data Parallelism](https://pytorch.org/tutorials/beginner/blitz/data_parallel_tutorial.html).\n",
    "\n",
    "# Where do I go next?\n",
    "\n",
    "- [Train neural nets to play video games](https://pytorch.org/tutorials/intermediate/reinforcement_q_learning.html)\n",
    "- [Train a state-of-the-art ResNet network on imagenet](https://github.com/pytorch/examples/tree/master/imagenet)\n",
    "- [Train a face generator using Generative Adversarial Networks](https://github.com/pytorch/examples/tree/master/dcgan)\n",
    "- [Train a word-level language model using Recurrent LSTM networks](https://github.com/pytorch/examples/tree/master/word_language_model)\n",
    "- [More examples](https://github.com/pytorch/examples)\n",
    "- [More tutorials](https://github.com/pytorch/tutorials)\n",
    "- [Discuss PyTorch on the Forums](https://discuss.pytorch.org/)\n",
    "- [Chat with other users on Slack](https://pytorch.slack.com/messages/beginner/)\n"
   ]
  },
  {
   "cell_type": "code",
   "execution_count": null,
   "metadata": {
    "execution": {
     "iopub.status.busy": "2024-10-30T12:43:36.666748Z",
     "iopub.status.idle": "2024-10-30T12:43:36.66723Z",
     "shell.execute_reply": "2024-10-30T12:43:36.667001Z",
     "shell.execute_reply.started": "2024-10-30T12:43:36.666975Z"
    },
    "id": "xy2njC6R0HFI",
    "trusted": true
   },
   "outputs": [],
   "source": [
    "del dataiter"
   ]
  }
 ],
 "metadata": {
  "accelerator": "GPU",
  "colab": {
   "gpuType": "T4",
   "provenance": []
  },
  "kaggle": {
   "accelerator": "none",
   "dataSources": [],
   "dockerImageVersionId": 30786,
   "isGpuEnabled": false,
   "isInternetEnabled": false,
   "language": "python",
   "sourceType": "notebook"
  },
  "kernelspec": {
   "display_name": "base",
   "language": "python",
   "name": "python3"
  },
  "language_info": {
   "codemirror_mode": {
    "name": "ipython",
    "version": 3
   },
   "file_extension": ".py",
   "mimetype": "text/x-python",
   "name": "python",
   "nbconvert_exporter": "python",
   "pygments_lexer": "ipython3",
   "version": "3.11.5"
  }
 },
 "nbformat": 4,
 "nbformat_minor": 0
}
